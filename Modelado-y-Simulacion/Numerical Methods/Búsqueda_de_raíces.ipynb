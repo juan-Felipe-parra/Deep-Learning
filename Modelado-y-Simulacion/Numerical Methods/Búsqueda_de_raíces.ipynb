{
  "nbformat": 4,
  "nbformat_minor": 0,
  "metadata": {
    "kernelspec": {
      "display_name": "Python 3",
      "language": "python",
      "name": "python3"
    },
    "language_info": {
      "codemirror_mode": {
        "name": "ipython",
        "version": 3
      },
      "file_extension": ".py",
      "mimetype": "text/x-python",
      "name": "python",
      "nbconvert_exporter": "python",
      "pygments_lexer": "ipython3",
      "version": "3.5.4"
    },
    "colab": {
      "name": "Búsqueda de raíces.ipynb",
      "provenance": [],
      "include_colab_link": true
    }
  },
  "cells": [
    {
      "cell_type": "markdown",
      "metadata": {
        "id": "view-in-github",
        "colab_type": "text"
      },
      "source": [
        "<a href=\"https://colab.research.google.com/github/MarioBolanos/Modelado-y-Simulacion/blob/master/Numerical%20Methods/B%C3%BAsqueda_de_ra%C3%ADces.ipynb\" target=\"_parent\"><img src=\"https://colab.research.google.com/assets/colab-badge.svg\" alt=\"Open In Colab\"/></a>"
      ]
    },
    {
      "cell_type": "markdown",
      "metadata": {
        "id": "6XeRXbaLrkzV"
      },
      "source": [
        "# Métodos de búsqueda de raíces \n"
      ]
    },
    {
      "cell_type": "markdown",
      "metadata": {
        "id": "X-KG3dULrkzX"
      },
      "source": [
        "### La tarea"
      ]
    },
    {
      "cell_type": "markdown",
      "metadata": {
        "id": "GzVlQm6rrkzY"
      },
      "source": [
        "¿Cómo podemos encontrar la raíz $ x_0 $ de una función $ f (x) $, es decir\n",
        "$$ f (x_0) = 0, $$ si no podemos determinarlo con lápiz y papel.\n",
        "\n",
        "Tenga en cuenta que podría haber más de una raíz y nos gustaría tener algún control sobre qué raíz se calcula."
      ]
    },
    {
      "cell_type": "markdown",
      "metadata": {
        "id": "z-3O-CWZrkzY"
      },
      "source": [
        "### Ejemplo"
      ]
    },
    {
      "cell_type": "markdown",
      "metadata": {
        "id": "beVCeEOhrkzZ"
      },
      "source": [
        "Nos gustaría saber dónde la función $ g (x) = x $ se cruza con la función $ h (x) = e ^ {- x} $. En otras palabras, necesitamos resolver\n",
        "$$ x = e ^ {- x}. $$\n",
        "Esto es equivalente a encontrar la raíz de $ f (x) = e ^ {- x} - x = 0: $\n",
        "$$ f (x_0) = e ^ {- x_0} −x_0 = 0. $$\n",
        "Tracemos las dos funciones $g$ y $h$ para medir si podría haber una raíz y, de ser así, dónde aproximadamente."
      ]
    },
    {
      "cell_type": "code",
      "metadata": {
        "id": "5ct8fVk3rkzZ"
      },
      "source": [
        "%matplotlib inline\n",
        "import numpy as np\n",
        "import matplotlib.pyplot as plt\n",
        "\n",
        "# Set common figure parameters\n",
        "newparams = {'figure.figsize': (12, 4), 'axes.grid': True,\n",
        "             'lines.linewidth': 1.5, 'lines.markersize': 10,\n",
        "             'font.size': 14}\n",
        "plt.rcParams.update(newparams)"
      ],
      "execution_count": null,
      "outputs": []
    },
    {
      "cell_type": "code",
      "metadata": {
        "id": "wUQkskLTrkzc",
        "outputId": "bdacd41e-6671-478b-8cd4-dedff9c1beb1",
        "colab": {
          "base_uri": "https://localhost:8080/",
          "height": 305
        }
      },
      "source": [
        "x = np.linspace(-1, 2, 100)\n",
        "g = x\n",
        "h = np.exp(-x)\n",
        "\n",
        "plt.plot(x, g, x, h)\n",
        "plt.legend([r'$g(x)$', r'$h(x)$'])\n",
        "plt.xlabel(r'$x$')\n",
        "plt.ylabel(r'$g(x)$, $h(x)$')\n"
      ],
      "execution_count": null,
      "outputs": [
        {
          "output_type": "execute_result",
          "data": {
            "text/plain": [
              "Text(0, 0.5, '$g(x)$, $h(x)$')"
            ]
          },
          "metadata": {
            "tags": []
          },
          "execution_count": 60
        },
        {
          "output_type": "display_data",
          "data": {
            "image/png": "[encoded data removed]",
            "text/plain": [
              "<Figure size 864x288 with 1 Axes>"
            ]
          },
          "metadata": {
            "tags": [],
            "needs_background": "light"
          }
        }
      ]
    },
    {
      "cell_type": "markdown",
      "metadata": {
        "id": "j07qRR1erkzg"
      },
      "source": [
        "Vemos que la intersección aparece cerca de $ x = 0.6 $. Dado que tanto $ g $ como $ h $ son funciones monótonas, solo se cruzan una vez. En consecuencia, f debería tener una raíz única cerca de x = 0,6, como se muestra en el gráfico siguiente."
      ]
    },
    {
      "cell_type": "code",
      "metadata": {
        "id": "9e0dafj6rkzg",
        "outputId": "acf9d4a7-86e1-4f86-e466-5bf914e79716",
        "colab": {
          "base_uri": "https://localhost:8080/",
          "height": 305
        }
      },
      "source": [
        "f = np.exp(-x) - x\n",
        "\n",
        "plt.plot(x, f)\n",
        "plt.xlabel(r'$x$')\n",
        "plt.ylabel(r'$f(x)$')\n",
        "\n"
      ],
      "execution_count": null,
      "outputs": [
        {
          "output_type": "execute_result",
          "data": {
            "text/plain": [
              "Text(0, 0.5, '$f(x)$')"
            ]
          },
          "metadata": {
            "tags": []
          },
          "execution_count": 61
        },
        {
          "output_type": "display_data",
          "data": {
            "image/png": "[encoded data removed]",
            "text/plain": [
              "<Figure size 864x288 with 1 Axes>"
            ]
          },
          "metadata": {
            "tags": [],
            "needs_background": "light"
          }
        }
      ]
    },
    {
      "cell_type": "markdown",
      "metadata": {
        "id": "GpKqKtI7tQXo"
      },
      "source": [
        "## Algoritmo de bisección"
      ]
    },
    {
      "cell_type": "markdown",
      "metadata": {
        "id": "2hV1paJFrkzj"
      },
      "source": [
        "\n",
        "\n",
        "¿Cómo podemos encontrar esta raíz?\n",
        "\n",
        "Bueno, sabemos que la raíz definitivamente se encuentra entre $ x = 0 $ y $ x = 1 $ ya que $ f (x) $ es monótonamente decreciente y\n",
        "$$ f (0) = 1, $$\n",
        " por tanto $y$ positivo, y\n",
        "$$ f (1) = \\frac {1} {e} - 1 = −0,6321, $$\n",
        " por lo tanto $y$ negativo. La raíz debe estar en algún punto intermedio.\n",
        "\n",
        "La estrategia ahora es \"poner a cero\" en la raíz comprobando los valores de la función cada vez más cerca de la raíz (desconocida)."
      ]
    },
    {
      "cell_type": "markdown",
      "metadata": {
        "id": "3la0Zzkzrkzj"
      },
      "source": [
        "Para hacerlo, dividamos el intervalo $ [0, 1] $ cuyos extremos acabamos de estudiar, en mitades eligiendo el punto medio $ x = 0.5 $. El valor de $ f $ en el punto medio es\n",
        "$$ f (0.5) = 0.1065, $$\n",
        "y por tanto positivo. Como $ f (1) <0 $, ahora sabemos que la raíz se encuentra entre $ x = 0.5 $ y $ x = 1 $. De manera similar al último paso, ahora elegimos el punto medio del intervalo $ [0.5, 1] $ para verificar el valor de la función:\n",
        "$$ f (0,75) = −0,2776. $$\n",
        "Por lo tanto, la raíz debe estar dentro del intervalo $ [0.5, 0.75] $."
      ]
    },
    {
      "cell_type": "markdown",
      "metadata": {
        "id": "HD7eU60yrkzk"
      },
      "source": [
        "Podemos seguir repitiendo estos pasos, lo que da como resultado intervalos cada vez más pequeños en los que debe estar la raíz. Puede suceder, aunque es poco probable, que uno de los puntos medios que finalmente elijamos coincida con la raíz. Sin embargo, este es un caso muy inusual.\n",
        "Truncamos este método cuando estamos satisfechos con la precisión con la que hemos determinado la raíz. Simplemente viene dado por el ancho del último intervalo. Tenga en cuenta que no podemos exceder la precisión de la máquina de nuestra computadora, estableciendo un límite a nuestra división de intervalos.\n",
        "El método anterior se llama __algoritmo de bisección__."
      ]
    },
    {
      "cell_type": "markdown",
      "metadata": {
        "id": "nShmtfiGrkzk"
      },
      "source": [
        "Ahora podemos escribir el algoritmo de bisección de forma sistemática.\n",
        "Dada una función (continua) $ f (x) $, una raíz, si existe, se puede aproximar de la siguiente manera:\n",
        "Encuentre dos valores $ x_p $ y $ x_m $ con $ f (x_p)> 0 $ y $ f (x_m) <0 $. Luego, sigue estos pasos:\n",
        "1. Elija el punto medio $ x_ \\mathrm {next} = \\frac {x_p + x_m} {2}. $\n",
        "2. Si $ f (x_ \\mathrm {next}) $ tiene el mismo signo que $ f (x_p) $, entonces establecemos $ x_p = x_ \\mathrm{next} $.\n",
        "3. De lo contrario, establecemos $ x_m = x_\\mathrm {next} $.\n",
        "4. Repita los tres pasos anteriores hasta alcanzar la precisión deseada.\n",
        "\n",
        "Es tan simple como eso. Determinemos la raíz de $ f(x) $ hasta una precisión determinada."
      ]
    },
    {
      "cell_type": "code",
      "metadata": {
        "id": "Aso1pravrkzl",
        "outputId": "4324bd21-4358-4934-b086-e61030f7082a",
        "colab": {
          "base_uri": "https://localhost:8080/",
          "height": 54
        }
      },
      "source": [
        "\n",
        "tol=1e-7\n",
        "\n",
        "x_i=0  # Punto Inicial\n",
        "x_f=1  # Punto Final \n",
        "Diff= np.abs(x_i-x_f)\n",
        "iteration=1\n",
        "while Diff>tol:\n",
        "  x_next= (x_i+x_f)/2\n",
        "  f_next= np.exp(-x_next)-x_next\n",
        "  f_p=    np.exp(-x_i)-x_i\n",
        "\n",
        "  if (f_next*f_p)>0:\n",
        "    x_i=x_next\n",
        "  else:\n",
        "    x_f=x_next\n",
        "  Diff= np.abs(x_f-x_i)\n",
        "  iteration=iteration+1\n",
        "\n",
        "print ('La raíz para f(x)=0 es %f y esta usa %f iteraciones' %(x_i,iteration))\n",
        "\n",
        "f_0= np.exp(-x_i)-x_i\n",
        "print ('f(%f)=%f'%(x_i,f_0))\n",
        "\n",
        "# import sympy as sp\n",
        "\n",
        "# x=sp.symbols('x')\n",
        "# f=sp.exp(-x)-x\n",
        "# f_01=sp.solve(f,x)\n",
        "\n",
        "# print(f_01[0])\n",
        "\n",
        "# from scipy.special import lambertw\n",
        "# f_2= lambertw(1)\n",
        "# f_2\n",
        "\n",
        "\n"
      ],
      "execution_count": null,
      "outputs": [
        {
          "output_type": "stream",
          "text": [
            "La raíz para f(x)=0 es 0.567143 y esta usa 25.000000 iteraciones\n",
            "f(0.567143)=0.000000\n"
          ],
          "name": "stdout"
        }
      ]
    },
    {
      "cell_type": "markdown",
      "metadata": {
        "id": "qhiOn7IEtbBl"
      },
      "source": [
        "## Algoritmo Newton-Raphson \n"
      ]
    },
    {
      "cell_type": "markdown",
      "metadata": {
        "id": "iujlzPKrrkzo"
      },
      "source": [
        "\n",
        "La idea es comenzar con una suposición $ x_1 $ y el punto correspondiente en el gráfico $ (x_1, f (x_1)) $. Elija $ x_1 = −0.5 $. Luego \"seguimos\" la línea tangente a la gráfica en ese punto hasta llegar al eje x.\n",
        "\n",
        "La intersección de la recta tangente y el eje $ x $ nos da una nueva estimación, $ x_2 $, de la raíz. Como podemos ver, ahora estamos más cerca de la raíz real.\n",
        "\n",
        "Podemos repetir este procedimiento, es decir, siguiendo una línea tangente en $ x_2 $ hasta que alcancemos el eje $ x $ de nuevo. Esto da como resultado nuestra próxima suposición $ x_3 $, y así sucesivamente.\n",
        "\n",
        "En el gráfico anterior, podemos ver que la diferencia $ \\Delta x $ (donde $ \\Delta x = x_ \\mathrm {next} - x_ \\mathrm {cur}) $ entre la estimación actual, $ x_ \\mathrm {cur} $, y la próxima suposición, $ x_ \\mathrm {next} $, está relacionada con la pendiente de la recta tangente, $ f ′ (x_ \\mathrm {cur}) $, vía (observe el signo menos)\n",
        "$$ f ′ (x_ \\mathrm {cur}) = - \\frac {f (x_\\mathrm {cur})} {\\Delta x}. $$\n",
        "\n",
        "Esto produce\n",
        "$$ x_ \\mathrm {next} = x_ \\mathrm {cur} + \\Delta x = x_ \\mathrm {cur} - \\frac {f (x_ \\mathrm {cur})} {f '(x_ \\mathrm {cur} )}. $$\n",
        "Este procedimiento se puede formular como el siguiente __Algoritmo de Newton-Raphson__ (también llamado método de Newton):\n",
        "1. Suponer un valor $ x_ \\mathrm {cur} $ de la raíz de la función $ f (x) $. A veces, graficar ayuda a suponer un valor (ver arriba).\n",
        "2. Si hay más de una raíz, intente elegir un valor cercano a la raíz que le interese.\n",
        "3. Establezca $ x_ \\mathrm {next} = x_ \\mathrm {cur} - \\frac {f (x_ \\mathrm {cur})} {f '(x_ \\mathrm {cur})} $ como la próxima estimación de raíz.\n",
        "4. Establezca $ x_ \\mathrm {cur} = x_ \\mathrm {next} $.\n",
        "5. Repita los pasos 3 y 4 hasta lograr la precisión deseada.\n",
        "\n"
      ]
    },
    {
      "cell_type": "code",
      "metadata": {
        "id": "rCoxUrrrrrN_",
        "outputId": "12020257-e851-4f4a-fcb1-65526bae3bab",
        "colab": {
          "base_uri": "https://localhost:8080/",
          "height": 291
        }
      },
      "source": [
        "x=np.linspace(-2,5,100)\n",
        "\n",
        "y=np.exp(-x)-x\n",
        "plt.plot(x,y)\n",
        "\n",
        "def f(x): return np.exp(-x)-x\n",
        "def df(x): return -np.exp(-x)-1\n",
        "\n",
        "iteration=1\n",
        "\n",
        "xi=-0.5\n",
        "tol=1e-7\n",
        "diff=np.abs(xi-x_next)\n",
        "\n",
        "while tol<diff:\n",
        "  x_next= xi-(f(xi)/df(xi))\n",
        "  diff=np.abs(xi-x_next)\n",
        "  xi=x_next\n",
        "  iteration=iteration+1\n",
        "\n",
        "plt.plot(xi,f(xi),'ro')\n",
        "print('La raiz de f(x)=0 es %f con %f iteraciones' %(xi, iteration))\n"
      ],
      "execution_count": null,
      "outputs": [
        {
          "output_type": "stream",
          "text": [
            "La raiz de f(x)=0 es 0.567143 con 6.000000 iteraciones\n"
          ],
          "name": "stdout"
        },
        {
          "output_type": "display_data",
          "data": {
            "image/png": "[encoded data removed]",
            "text/plain": [
              "<Figure size 864x288 with 1 Axes>"
            ]
          },
          "metadata": {
            "tags": [],
            "needs_background": "light"
          }
        }
      ]
    },
    {
      "cell_type": "markdown",
      "metadata": {
        "id": "Ef8u3FCOrIKH"
      },
      "source": [
        "La precisión puede referirse a dos fenómenos:\n",
        "1. Cuando el algoritmo converge, $ \\Delta x $ finalmente disminuye con cada iteración. La pregunta es: ¿a qué valor de $ \\Delta x $ deberíamos detener nuestro procedimiento iterativo?\n",
        "2. ¿Qué tan cerca está $ f (x_ \\mathrm {cur}) $ de cero?\n",
        "\n",
        "Nota: En cada caso, no podemos estar seguros de qué tan cerca estamos realmente de la raíz real $ x_0 $. Esto tiene mucho que ver con el comportamiento de la función $ f $ cerca de $ x_0 $.\n",
        "- En el caso 1, $ \\Delta x $ en principio podría aumentar nuevamente durante la próxima iteración.\n",
        "- En el caso 2, la magnitud de $ f (x_ \\mathrm {cur}) $ podría en principio aumentar nuevamente en la siguiente iteración."
      ]
    },
    {
      "cell_type": "markdown",
      "metadata": {
        "id": "fpRFeCjErIKH"
      },
      "source": [
        "Si la raíz se encuentra en una región donde $ f (x) $ es casi lineal, el algoritmo convergerá rápidamente, mucho más rápido que el algoritmo de bisección.\n",
        "\n",
        "Sin embargo, generalmente no hay garantía de que el algoritmo converja. Dos fenómenos ocurren con frecuencia cuando se aplica el algoritmo de Newton-Raphson. Discutámoslos uno por uno."
      ]
    },
    {
      "cell_type": "markdown",
      "metadata": {
        "id": "wknnXFkmrIKI"
      },
      "source": [
        "__Problema No. 1:__\n",
        "La derivada $ f ′ (x_ \\mathrm {cur}) $ a veces puede volverse muy pequeña, lo que hace que $ \\Delta x = - \\frac {f (x_ \\mathrm {cur})} {f ′ (x_ \\mathrm {cur} )} $ muy grande. Este es el caso cerca de los mínimos y máximos locales, o potencialmente en una inflexión (horizontal)\n",
        "punto.\n",
        "\n",
        "La próxima suposición $ x_ \\mathrm {next} $ está entonces muy lejos de la raíz real. El código de computadora puede detenerse debido a números demasiado grandes por naturaleza, o uno ingresa a la región de otra raíz. En otras palabras, uno no regresa a ninguna parte cercana a la raíz del interés.\n",
        "En este caso, es necesario cambiar la suposición inicial. O podemos limitar el tamaño del paso $ \\Delta x $."
      ]
    },
    {
      "cell_type": "markdown",
      "metadata": {
        "id": "ukNi3kS0rIKJ"
      },
      "source": [
        "__Problema No. 2:__\n",
        "El algoritmo no converge ni diverge. Más bien, permanece dentro de la vecindad de la raíz, oscilando en un bucle infinito alrededor de la raíz real sin acercarse a ella.\n",
        "\n",
        "Nuevamente, es necesario cambiar la suposición inicial. O necesitamos reducir más el tamaño del paso (relajación): podemos reemplazar $ \\Delta x $ por $ \\gamma \\Delta x $, con $ 0 <\\gamma <1 $.\n",
        "___"
      ]
    },
    {
      "cell_type": "markdown",
      "metadata": {
        "id": "i2NGVpMFrIKK"
      },
      "source": [
        "A veces, puede ser útil usar primero el método de bisección más lento pero confiable para acercarse lo suficiente a la raíz real para proporcionar una buena estimación inicial para el método más rápido de Newton-Raphson. Este último asume el control en algún momento, proporcionando una mejor convergencia.\n",
        "\n",
        "Otro truco útil es aproximar la derivada $ f ′ (x_ \\mathrm {cur}) $ por\n",
        "$$ f ′ (x_ \\mathrm {cur}) \\approx \\frac {f (x_ \\mathrm {cur} + \\delta x) −f (x_ \\mathrm {cur})} {\\delta x} $$\n",
        "por un pequeño valor $ \\delta x $. Esto resulta útil cuando la derivada no se puede calcular fácilmente en forma analítica y se requiere una estimación numérica."
      ]
    },
    {
      "cell_type": "markdown",
      "metadata": {
        "id": "XPo1-w5NrIKL"
      },
      "source": [
        "__Ejemplo 2: __\n",
        "\n",
        "Queremos resolver la ecuación\n",
        "$$ 2 - x ^ 4 = \\ tanh (x) $$\n",
        "por $ x> 0 $. Por lo tanto, necesitamos resolver\n",
        "$$ f (x) = 2 - x ^ 4 - \\ tanh (x) $$\n",
        "Nuestro algoritmo lee\n",
        "$$\n",
        "\\begin {align}\n",
        "x_ \\mathrm {next} = x_ \\mathrm {cur} - \\frac {f (x_ \\mathrm {cur})} {f '(x_ \\mathrm {cur})} = \\frac {2-x_ \\mathrm {cur } ^ 4- \\tanh (x_ \\mathrm {cur})} {- 4 x_ \\mathrm {cur} ^ 3- \\frac {1} {\\cosh (x_ \\mathrm {cur}) ^ 2}}.\n",
        "\\end {align}\n",
        "$$\n",
        "Trazar $ f (x) $ nos ayuda a hacer una suposición inicial."
      ]
    },
    {
      "cell_type": "code",
      "metadata": {
        "id": "CcNT-sS3rIKL",
        "outputId": "b96c87ba-f29f-4214-f3ff-af03db795ac1",
        "colab": {
          "base_uri": "https://localhost:8080/",
          "height": 305
        }
      },
      "source": [
        "x = np.linspace(0, 1.5, 100)\n",
        "def f(x): return 2 - x**4 - np.tanh(x)\n",
        "\n",
        "plt.plot(x, f(x))\n",
        "plt.xlabel(r'$x$')\n",
        "plt.ylabel(r'$f(x)$')\n",
        "\n",
        "plt.plot(x,x*0)"
      ],
      "execution_count": null,
      "outputs": [
        {
          "output_type": "execute_result",
          "data": {
            "text/plain": [
              "[<matplotlib.lines.Line2D at 0x7f4ad3332ba8>]"
            ]
          },
          "metadata": {
            "tags": []
          },
          "execution_count": 65
        },
        {
          "output_type": "display_data",
          "data": {
            "image/png": "[encoded data removed]",
            "text/plain": [
              "<Figure size 864x288 with 1 Axes>"
            ]
          },
          "metadata": {
            "tags": [],
            "needs_background": "light"
          }
        }
      ]
    },
    {
      "cell_type": "markdown",
      "metadata": {
        "id": "A4_8ytLjrIKS"
      },
      "source": [
        "Elegimos $ x_ \\mathrm {cur} = x_1 = 1.0 $.\n",
        "\n",
        "Ahora iteramos y encontramos las siguientes estimaciones sucesivas para la raíz de las primeras 5 iteraciones (hasta 12 dígitos significativos):"
      ]
    },
    {
      "cell_type": "code",
      "metadata": {
        "id": "RtbZmzixrIKT",
        "outputId": "5e7c08f4-d21c-4ad6-b9bb-07963f49b7c1",
        "colab": {
          "base_uri": "https://localhost:8080/",
          "height": 145
        }
      },
      "source": [
        "N = 5\n",
        "\n",
        "x_cur = 1.0\n",
        "i=0\n",
        "print(x_cur)\n",
        "\n",
        "for i in range(N):\n",
        "  i=i+1\n",
        "  x_cur = x_cur-(2-x_cur**4-np.tanh(x_cur))/(-4*x_cur**3-1/(np.cosh(x_cur))**2)\n",
        "  print(x_cur)\n",
        "    \n",
        "print('Valor de la última iteracion, f({}) ={}'.format(x_cur,f(x_cur)))\n"
      ],
      "execution_count": null,
      "outputs": [
        {
          "output_type": "stream",
          "text": [
            "1.0\n",
            "1.0539382868809093\n",
            "1.0505495562464537\n",
            "1.0505350542199834\n",
            "1.05053505395561\n",
            "1.05053505395561\n",
            "Valor de la última iteracion, f(1.05053505395561) =-2.220446049250313e-16\n"
          ],
          "name": "stdout"
        }
      ]
    },
    {
      "cell_type": "markdown",
      "metadata": {
        "id": "QByTxcftrIKc"
      },
      "source": [
        "¡Vemos que 5 iteraciones son suficientes en este caso!\n",
        "El algoritmo de bisección requeriría muchas más iteraciones para la misma precisión."
      ]
    },
    {
      "cell_type": "markdown",
      "metadata": {
        "id": "-5FwBFOwrIKd"
      },
      "source": [
        "El valor de $ f (x) $ para nuestra estimación raíz final es\n",
        "$$ f (1.05053505396) = -2.22044604925 \\times 10 ^ {- 16}. $$\n",
        "¡Muy buen estimado!"
      ]
    },
    {
      "cell_type": "markdown",
      "metadata": {
        "id": "75O9uOSjrIKd"
      },
      "source": [
        "__Nota:__\n",
        "El método de Newton se puede extender a dimensiones más altas, es decir, tener $ k $ variables y $ k $ funciones de las cuales necesitamos encontrar las raíces simultáneamente. Esto es particularmente relevante para soluciones numéricas de ecuaciones diferenciales. Sin embargo, estas complejidades del método de Newton no se cubrirán en este módulo."
      ]
    },
    {
      "cell_type": "code",
      "metadata": {
        "id": "swwj7qO5hYXR",
        "outputId": "af573972-dcf8-4920-976c-42c5d508aa59",
        "colab": {
          "base_uri": "https://localhost:8080/",
          "height": 269
        }
      },
      "source": [
        "#r-x-exp(x)\n",
        "#1+rx+x2\n",
        "x=np.linspace(-2,5,100)\n",
        "\n",
        "#y=r-x-np.exp(x)\n",
        "r=0\n",
        "y= 1+r*x+x**2\n",
        "plt.plot(x,y)\n",
        "\n",
        "# def f(x): return np.exp(-x)-x\n",
        "def f(x): return 1+r*x+x**2\n",
        "def df(x): return r+2*x\n",
        "# def df(x): return -np.exp(-x)-1\n",
        "\n",
        "# iteration=1\n",
        "\n",
        "# xi=1.3\n",
        "# tol=1e-7\n",
        "# diff=np.abs(xi-x_next)\n",
        "\n",
        "# while tol<diff:\n",
        "#   x_next= xi-(f(xi)/df(xi))\n",
        "#   diff=np.abs(xi-x_next)\n",
        "#   xi=x_next\n",
        "#   iteration=iteration+1\n",
        "\n",
        "# plt.plot(xi,f(xi),'ro')\n",
        "# print('La raiz de f(x)=0 es %f con %f iteraciones' %(xi, iteration))"
      ],
      "execution_count": null,
      "outputs": [
        {
          "output_type": "display_data",
          "data": {
            "image/png": "[encoded data removed]",
            "text/plain": [
              "<Figure size 864x288 with 1 Axes>"
            ]
          },
          "metadata": {
            "tags": [],
            "needs_background": "light"
          }
        }
      ]
    },
    {
      "cell_type": "code",
      "metadata": {
        "id": "UtceITADyeMa",
        "outputId": "0f68b366-cf22-4e4d-d78b-c9aced3c15c4",
        "colab": {
          "base_uri": "https://localhost:8080/",
          "height": 35
        }
      },
      "source": [
        "from sympy import symbols, solve\n",
        "\n",
        "x = symbols('x')\n",
        "\n",
        "r=-4\n",
        "\n",
        "expr = 1+r*x+x**2\n",
        "\n",
        "\n",
        "sol = solve(expr)\n",
        "print(sol)"
      ],
      "execution_count": null,
      "outputs": [
        {
          "output_type": "stream",
          "text": [
            "[-sqrt(3) + 2, sqrt(3) + 2]\n"
          ],
          "name": "stdout"
        }
      ]
    }
  ]
}