{
  "nbformat": 4,
  "nbformat_minor": 0,
  "metadata": {
    "kernelspec": {
      "display_name": "Python 3",
      "language": "python",
      "name": "python3"
    },
    "language_info": {
      "codemirror_mode": {
        "name": "ipython",
        "version": 3
      },
      "file_extension": ".py",
      "mimetype": "text/x-python",
      "name": "python",
      "nbconvert_exporter": "python",
      "pygments_lexer": "ipython3",
      "version": "3.7.3"
    },
    "colab": {
      "name": "Eulers_method_Colab.ipynb",
      "provenance": [],
      "include_colab_link": true
    }
  },
  "cells": [
    {
      "cell_type": "markdown",
      "metadata": {
        "id": "view-in-github",
        "colab_type": "text"
      },
      "source": [
        "<a href=\"https://colab.research.google.com/github/MarioBolanos/Modelado-y-Simulacion/blob/master/Numerical%20Methods/Metodo_de_Euler.ipynb\" target=\"_parent\"><img src=\"https://colab.research.google.com/assets/colab-badge.svg\" alt=\"Open In Colab\"/></a>"
      ]
    },
    {
      "cell_type": "markdown",
      "metadata": {
        "id": "kKBYQMVFXOzy"
      },
      "source": [
        "# Método de Euler\n"
      ]
    },
    {
      "cell_type": "markdown",
      "metadata": {
        "id": "IxunSnc1XOzz"
      },
      "source": [
        "## Introducción\n",
        "\n",
        "Resolver ecuaciones diferenciales es fundamental tanto para la física como para las matemáticas. Las ecuaciones diferenciales ordinarias, ODE para abreviar, aparecen en todo tipo de problemas de la física, ya sea en la mecánica newtoniana (donde intentamos encontrar las ecuaciones del movimiento), la teoría electromagnética o la mecánica cuántica. Sin embargo, la mayoría de las veces, estas EDO no tienen soluciones analíticas y tenemos que resolverlas numéricamente. En este cuaderno daremos una revisión extensa del método de Euler, el algoritmo más simple para resolver EDO. En contraste con nuestro otro cuaderno sobre el método de Euler, * [Implementación simple del método de Euler] (https://github.com/MarioBolanos/Metodo-de-Euler/blob/master/Eulers_method___implementation__done.ipynb) *, cubriremos el algoritmo bastante a fondo, ya que mostraremos la derivación del método, las estimaciones de error y la estabilidad. Por último, mostraremos cómo podemos utilizar el método de Euler para resolver ecuaciones diferenciales de orden superior, reduciéndolas a un sistema de ecuaciones diferenciales de primer orden.\n",
        "\n",
        "Comencemos dando un ejemplo concreto sobre qué tipo de problema deseamos resolver. Considere la ecuación diferencial de primer orden\n",
        "\n",
        "\\begin{equation}\n",
        "\\frac{d}{dt} y(t) = g(y(t), t),\n",
        "\\tag{1}\n",
        "\\end{equation}\n",
        "\n",
        "\n",
        "donde $ y (t) $ es la función que queremos calcular, y $ g (y (t), t) $ es una función que puede depender de $ y (t) $, pero también puede tener una dependencia temporal explícita. Si tenemos la condición inicial $ y (0) = y_0 $, ¿cómo resolvemos $ (1) $? Analíticamente existen multitud de esquemas diferentes para resolver este tipo de ecuaciones, todos con sus propias limitaciones y áreas de uso. Un ejemplo de esto es el *[factor de integración](https://en.wikipedia.org/wiki/Integrating_factor) *, que es un esquema con el que el lector ya podría estar familiarizado. Sin embargo, todos estos esquemas analíticos dependen de la __existencia__ de una solución analítica. Al resolver la ecuación $ (1) $ numéricamente, no estamos restringidos a este tipo de EDO y, por lo tanto, hemos abierto una caja de Pandora de nuevas EDO que podemos resolver."
      ]
    },
    {
      "cell_type": "markdown",
      "metadata": {
        "id": "E9H5wjtfXOz0"
      },
      "source": [
        "## Teoría\n",
        "\n",
        "### Discretización\n",
        "\n",
        "Una de las desventajas de usar esquemas numéricos para resolver EDO es que tenemos que * discretizar * nuestras variables de tiempo. Esto significa que la variable de tiempo $ t $, solo puede tomar un conjunto de valores de tiempo discretos predeterminados, llamados puntos de cuadrícula, ya no es una variable continua. Definimos este conjunto de posibles valores de tiempo para estar en el formulario\n",
        "\n",
        "$$\n",
        "t_n = t_0 + nh, \\quad \\mathrm{with} \\quad n = 0, 1, 2,..., N,\n",
        "$$\n",
        "\n",
        "donde $ t_0 $ a menudo es el valor de tiempo donde conocemos nuestra condición inicial, y $ h $ es el tamaño entre valores de tiempo discretos adyacentes. La relación entre $ N $ y $ h $ está dada por\n",
        "\n",
        "\\begin{equation}\n",
        "h = \\frac{t_N - t_0}{N},\n",
        "\\tag{2}\n",
        "\\end{equation}\n",
        "\n",
        "donde $ N + 1 $ es el número de puntos de tiempo discretos que tenemos en nuestra simulación (donde el + 1 aparece debido a nuestra elección de indexación cero), mientras que $ t_N $ denota el mayor valor de tiempo que tenemos en nuestra simulación. Podría pensar en $ h $ como la tosquedad de nuestra variable de tiempo; cuanto menor sea $ h $, más puntos de cuadrícula necesitamos para cubrir el mismo intervalo de tiempo. Por ejemplo, si queremos discretizar el intervalo $ [0,1] $ de manera que tengamos puntos de la cuadrícula cada 0.01 segundos, es decir, la distancia entre los puntos de la cuadrícula es 0.01 (recuerde que esta es nuestra definición de $ h $), usamos ecuación $ (2) $, para deducir que necesitamos $ N = 100 $. En general, nuestra aproximación numérica será mejor si elegimos $ h $ pequeños. Observe que a medida que disminuye el tamaño de $ h $, aumenta el número de valores de tiempo discretos entre $ t_0 $ y $ t_N $. Pagamos por el mayor nivel de precisión aumentando el número de cálculos necesarios, aumentando así el tiempo de ejecución de nuestro programa. Es muy recomendable reflexionar sobre cuál es la tosquedad necesaria de nuestra variable de tiempo discretizada antes de resolver un problema."
      ]
    },
    {
      "cell_type": "markdown",
      "metadata": {
        "id": "Oyw98AgOXOz1"
      },
      "source": [
        "### Método de Euler\n",
        "\n",
        "Hay varias formas de derivar el método de Euler. Aquí presentamos una prueba que gira en torno a la serie de Taylor, por lo que se requiere cálculo básico para seguir la demostración. Cualquier función \"agradable\" (no detallamos lo que esto requiere) $ y (t) $ puede escribirse como\n",
        "\\begin{equation}\n",
        "y(t) = \\sum_{n=0}^{\\infty} \\frac{y^{(n)}(t_0)}{n!}(t-t_0)^n, = y(t_0) + \\frac{y'(t_0)}{1!}(t-t_0) + \\frac{y''(t_0)}{2!}(t-t_0)^2 + ...\n",
        "\\tag{3}\n",
        "\\end{equation}\n",
        "\n",
        "donde $ t_0 $ es un valor arbitrario. Decimos que expandimos $ y (t) $ alrededor de $ t_0 $. Ahora usamos el teorema de Taylor y truncamos la serie en el primer orden\n",
        "\n",
        "\\begin{equation}\n",
        "y(t_0 + h) = y(t_0) + \\frac{y'(t_0)}{1!}h + \\frac{1}{2!}h^2 y''(\\tau),\n",
        "\\tag{4}\n",
        "\\end{equation}\n",
        "\n",
        "por unos $ \\ tau \\ en [t_0, t_0 + h] $. Reorganizando la ecuación $ (4) $ y despejando $ y '(t_0) $ obtenemos\n",
        "\n",
        "\\begin{equation}\n",
        "y'(t_0) = \\frac{y(t_0 + h)- y(t_0)}{h} + \\mathcal{O}(h), \n",
        "\\tag{5}\n",
        "\\end{equation}\n",
        "\n",
        "donde usamos * [notación O grande] (https://en.wikipedia.org/wiki/Big_O_notation) *. Ahora usamos la idea esencial del método de Euler, de $ (1) $, sabemos la expresión exacta de $ y '(t_0) $ porque sabemos que $ y' (t) = g (y (t), t)$ PS Insertando esto en $ (5) $ y despejando $ y (t_0 + h) $ we get \n",
        "\n",
        "\\begin{equation}\n",
        "y(t_0 + h) = y(t_0) + h g(y(t_0), t_0) + \\mathcal{O}(h^2).\n",
        "\\tag{6}\n",
        "\\end{equation}\n",
        "\n",
        "Por lo tanto, mediante la ecuación $ (6) $ tenemos una estimación de cuál es el valor de $ y $ en nuestro primer punto de la cuadrícula $ t = t_0 + h $! Al elegir $ h $ lo suficientemente pequeño (y esperando que el término $ \\mathcal {O} $ no sea demasiado grande), nuestra estimación será bastante precisa. Descuidando el término $ \\mathcal {O} $, escribimos\n",
        "\n",
        "\\begin{equation}\n",
        "y(t_0 + h) \\approx y(t_0) + h g(y(t_0), t_0).\n",
        "\\tag{7}\n",
        "\\end{equation}\n",
        "\n",
        "\n",
        "Si tenemos nuestra condición inicial en $ t_0 $ y denotamos este valor como $ y_0 $, podemos usar el método de Euler para encontrar una aproximación de $ y $ en $ t_1 = t_0 + h $. $ y $ en $ t_1 $ se denota como $ y_1 $. Esta aproximación se puede calcular mediante la fórmula\n",
        "$$\n",
        "y_1 = y_0 + hg(y_0).\n",
        "$$\n",
        "\n",
        "Ahora, para encontrar el tamaño de la población $ y_2 $ en $ t_2 = t_1 + h = t_0 + 2h $, usamos la misma fórmula, pero con $ y_1 $ en lugar de $ y_0 $\n",
        "\n",
        "$$\n",
        "y_2 = y_1 + h g(y_1).\n",
        "$$\n",
        "\n",
        "La forma más general del método de Euler se escribe como\n",
        "\n",
        "\\begin{equation}\n",
        "y_{n+1} = y_n + h g(y_n).\n",
        "\\tag{8}\n",
        "\\end{equation}\n",
        "\n",
        "Ahora ilustraremos cómo implementar el método de Euler usando el mismo ejemplo que en nuestro * [Implementación del cuaderno de métodos de Euler] (https://github.com/MarioBolanos/Metodo-de-Euler/blob/master/Eulers_method___implementation__done.ipynb) *.\n",
        "\n",
        "\\begin{equation}\n",
        "\\frac{dy}{dt} = ky(t),\n",
        "\\tag{9}\n",
        "\\end{equation}\n",
        "\n",
        "donde $ k = \\mathrm {ln} (2) $ y $ y (0) = 1 $. En el cuaderno anterior dijimos que $ y (t) $ era el tamaño de la población de una colonia bacteriana en el momento $ t $, y repetimos la notación aquí. Podemos resolver la ecuación $ (9) $ analíticamente para obtener $ y(t) = 2^ t $, por lo que tenemos algo con lo que comparar nuestros resultados numéricos.\n"
      ]
    },
    {
      "cell_type": "code",
      "metadata": {
        "id": "MXOp4YhCXOz1"
      },
      "source": [
        "# Importing the necessary libraries\n",
        "import numpy as np # NumPy is used to generate arrays and to perform some mathematical operations\n",
        "import matplotlib.pyplot as plt # Used for plotting results\n",
        "\n",
        "# Updating figure params\n",
        "newparams = {'figure.figsize': (15, 7), 'axes.grid': False,\n",
        "             'lines.markersize': 10, 'lines.linewidth': 2,\n",
        "             'font.size': 15, 'mathtext.fontset': 'stix',\n",
        "             'font.family': 'STIXGeneral', 'figure.dpi': 200}\n",
        "plt.rcParams.update(newparams)\n"
      ],
      "execution_count": null,
      "outputs": []
    },
    {
      "cell_type": "code",
      "metadata": {
        "id": "f94C86eSXOz6"
      },
      "source": [
        "def step_Euler(y, h, f):\n",
        "    \"\"\"Performs a single step of Euler's method.\n",
        "    \n",
        "    Parameters:\n",
        "            y: Numerical approximation of y at time t\n",
        "            h: Step size\n",
        "            f: RHS of our ODE (RHS = Right hand side). Can be any function that only has y as a variable.\n",
        "        Returns:\n",
        "            next_y: Numerical approximation of y at time t+h\n",
        "    \"\"\"\n",
        "    next_y = y + h * f(y)\n",
        "    return next_y\n",
        "\n",
        "\n",
        "def full_Euler(h, f, y_0 = 1, start_t = 0, end_t = 1):\n",
        "    \"\"\" A full numerical aproximation of an ODE in a set time interval. Performs consecutive Euler steps\n",
        "    with step size h from start time until the end time. Also takes into account the initial values of the ODE\n",
        "    \n",
        "    Parameters:\n",
        "            h: Step size\n",
        "            f: RHS of our ODE\n",
        "            y_0 : Initial condition for y at t = start_t\n",
        "            start_t : The time at the initial condtion, t_0\n",
        "            end_t : The end of the interval where the Euler method is perfomed, t_N\n",
        "        Returns:\n",
        "            y_list: Numerical approximation of y at times t_list\n",
        "            t_list: Evenly spaced discrete list of time with spacing h. \n",
        "                    Starting time = start_t, and end time = end_t \n",
        "    \"\"\"\n",
        "    # Number of discretisation steps\n",
        "    N = int((end_t - start_t) / h)\n",
        "    # Following the notation in the theory, we have N+1 discrete time values linearly spaced\n",
        "    t_list = np.linspace(start_t, end_t, N + 1)\n",
        "    \n",
        "    # Initialise array to store y-values\n",
        "    y_list = np.zeros(N + 1)\n",
        "    # Assign initial condition to first element\n",
        "    y_list[0] = y_0\n",
        "    \n",
        "    # Assign the rest of the array using N Euler_steps\n",
        "    for i in range(0, N):\n",
        "        y_list[i + 1] = step_Euler(y_list[i], h, f)\n",
        "    return y_list, t_list "
      ],
      "execution_count": null,
      "outputs": []
    },
    {
      "cell_type": "markdown",
      "metadata": {
        "id": "pwPxJigDXOz9"
      },
      "source": [
        "Ahora que tenemos nuestras funciones definidas, solo necesitamos definir nuestro RHS (lado derecho) de nuestra ecuación diferencial, que en la parte de la teoría denotamos como $ g (y) $.\n",
        "\n"
      ]
    },
    {
      "cell_type": "code",
      "metadata": {
        "id": "p-yGEF34XOz-",
        "colab": {
          "base_uri": "https://localhost:8080/",
          "height": 315
        },
        "outputId": "643c8518-b868-44a4-df75-56426c4a40b1"
      },
      "source": [
        "def g(y):\n",
        "    \"\"\"Defines the right hand side of our differential equation. In our case of bacterial growth, g(y) = k*y\n",
        "    \n",
        "    Parameters:\n",
        "            y: Numerical approximation of y at time t\n",
        "        Returns:\n",
        "            growth_rate: Current population size multiplied with a constant of proportionality.\n",
        "            In this case this is equal to ln(2)\n",
        "    \"\"\"\n",
        "    growth_rate = np.log(2)*y\n",
        "    return growth_rate\n",
        "\n",
        "# Now we can find the the numerical results from Euler's method\n",
        "# and compare them to the analytical solution\n",
        "\n",
        "# Input parameters\n",
        "y_0 = 1  # Initial population size, i.e. a single bacteria\n",
        "h = 0.01 # Step size\n",
        "t_0 = 0  # We define the time at our initial observation as 0\n",
        "t_N = 10 # 10 days after our initial observation of a single bacteria\n",
        "\n",
        "\n",
        "# Calculating results from Euler and plotting them\n",
        "y_list, t_list = full_Euler(h, g, y_0, t_0, t_N)\n",
        "plt.plot(t_list, y_list, label=\"Numerical\", linewidth=1)\n",
        "\n",
        "# Plotting the analytical solution derived earlier\n",
        "plt.plot(t_list,np.power(2, t_list), label=\"Analytical\", linewidth=1)\n",
        "\n",
        "# Making the plot look nice\n",
        "plt.legend()\n",
        "plt.title(\"The population size of a bacterial colony as a function of time\")\n",
        "plt.xlabel(r'$t$ [days]')\n",
        "plt.ylabel(r'$y$ [# bacteria]')\n",
        "plt.show()\n",
        "\n",
        "# Let's see how far off our numerical approximation is after 5 days.\n",
        "\n",
        "last_analytical = np.power(2,t_list[-1]) # Extracting the last element of the analytical solution\n",
        "last_numerical = y_list[-1] # Extracting the last element of the numerical solution\n",
        "\n",
        "print(\"After 10 days, our numerical approximation of bacterias is off by: %.2f\" %(last_analytical - last_numerical))"
      ],
      "execution_count": null,
      "outputs": [
        {
          "output_type": "display_data",
          "data": {
            "image/png": "[encoded data removed]",
            "text/plain": [
              "<Figure size 432x288 with 1 Axes>"
            ]
          },
          "metadata": {
            "tags": [],
            "needs_background": "light"
          }
        },
        {
          "output_type": "stream",
          "text": [
            "After 10 days, our numerical approximation of bacterias is off by: 24.20\n"
          ],
          "name": "stdout"
        }
      ]
    },
    {
      "cell_type": "markdown",
      "metadata": {
        "id": "P36Db5r_XO0C"
      },
      "source": [
        "We see that our model fares quite well with a step size $h=0.0\n",
        "1$, as it only deviates from the analytical solution by 24 bacteria cells, or 2.4 %. Using a smaller $h$ would yield a smaller error, and this is the next theoretical aspect we will consider."
      ]
    },
    {
      "cell_type": "markdown",
      "metadata": {
        "id": "obZ0P7iNXO0C"
      },
      "source": [
        "### Errores de truncamiento local y global\n",
        "\n",
        "En la sección de teoría anterior, mostramos las siguientes relaciones\n",
        "\\begin{equation}\n",
        "y(t_0 + h) = y(t_0) + h g(y(t_0), t_0) + \\mathcal{O}(h^2)\n",
        "\\\\\n",
        "y(t_0 + h) \\approx y(t_0) + h g(y(t_0), t_0).\n",
        "\\tag{10}\n",
        "\\end{equation}\n",
        "\n",
        "La primera ecuación es __exact__, mientras que la otra es una aproximación. El método de Taylor-expandir una función y truncarla en un cierto orden se usa ampliamente en física (de hecho, es la piedra angular en casi todos los campos de la física). Sin embargo, es importante estudiar las consecuencias de esta aproximación.\n",
        "\n",
        "En el análisis numérico, un concepto importante es el error de truncamiento __local__. Esto describe el error que cometemos después de cada paso de tiempo. Si tenemos la condición inicial $ y_0 $, podemos usar nuestro esquema numérico para encontrar una aproximación de lo que debería ser $ y (t_0 + h) $, denotado $ y_ {approx} (t_0 + h) $. Esto es lo que hacemos en la segunda línea de arriba. Si luego comparamos esta aproximación con la solución __exact__ (es decir, la primera línea), denotada $ y_ {exact} (t_0 + h) $, podemos encontrar el error de truncamiento local en el primer paso de tiempo, denotado $ \\tau_1 $\n",
        "\\begin{equation}\n",
        "\\tau_1 = \\mid y_{exact}(t_0 + h) - y_{approx}(t_0 + h) \\mid.\n",
        "\\tag{11}\n",
        "\\end{equation}\n",
        "\n",
        "Usando la ecuación $ (10) $, vemos que $ \\tau_1 = \\mathcal {O} (h ^ 2) $. Por lo tanto, nuestro error de truncamiento local es de segundo orden, lo que significa que si usamos un $ h $ que es solo la mitad del $ h $ original, el error de truncamiento local sería una cuarta parte del tamaño original.\n",
        "\n",
        "De forma análoga al error de truncamiento local, tenemos el error de truncamiento __global__. En cada paso de tiempo de nuestra simulación numérica, tendremos una aproximación de $ y (t) $ en $ t = t_n $, denotado $ y_ {approx} (t_n) $. El error de truncamiento global, $ e_n $. Se define como\n",
        "\n",
        "\\begin{equation}\n",
        "e_n = \\mid y_{exact}(t_n) - y_{approx}(t_n) \\mid.\n",
        "\\tag{12}\n",
        "\\end{equation}\n",
        "\n",
        "La ecuación $ (12) $ describe qué tan lejos está nuestro esquema numérico de la solución exacta. Tenga en cuenta que el error de truncamiento global no es la suma de todos los errores de truncamiento local, sino la acumulación de errores cometidos en cada paso (es decir, la suma de los errores de truncamiento local __si__ se definieron sin el valor absoluto). Aquí presentamos un enfoque algo heurístico para encontrar $ e_n $. Si sabemos que nuestro error de truncamiento local es del orden $ \\mathcal {O} (h ^ 2) $, sabemos que para cada paso de tiempo obtenemos el error $ ah ^ 2 $, donde $ a $ es solo una constante. Para llegar a $ t_N $, necesitamos hacer $ N $ pasos, y usando la ecuación $ (2) $ vemos que el número de pasos necesarios es inversamente proporcional a $ h $. Por tanto, el error acumulado $ e_N = ah ^ 2 \\frac {1} {h} = a h $. Por lo tanto, nuestra conclusión es que el error de truncamiento global para el método de Euler es del orden $ \\mathcal {O} (h) $. Tenga en cuenta que esta relación se mantiene en general. Si un esquema de ODE tiene un error de truncamiento local $ \\mathcal {O} (h ^ {p + 1}) $, el error de truncamiento global es $ \\mathcal {O} (h ^ {p}) $.\n",
        "\n",
        "¡Ahora, pongamos en práctica la teoría que aquí se deriva! El siguiente código puede ser un poco más técnico de lo que hemos hecho hasta ahora, pero vale la pena el esfuerzo a medida que redescubrimos nuestros resultados teóricos. "
      ]
    },
    {
      "cell_type": "code",
      "metadata": {
        "id": "j1fQ9KRwXO0D",
        "colab": {
          "base_uri": "https://localhost:8080/",
          "height": 221
        },
        "outputId": "c7e4826e-2362-420b-b533-4f236046f069"
      },
      "source": [
        "from prettytable import PrettyTable  # This is imported solely to get the output on a nice format\n",
        "\n",
        "\n",
        "def trunc_errors(f, base=2, h_max_log=-1, h_min_log=-6, y_0=1, start_t=0, end_t=2):\n",
        "    \"\"\"A full numerical approximation of an ODE in a set time interval. Performs consecutive Euler steps\n",
        "    with step size h from start time until the end time. Also takes into account the initial values of the ODE.\n",
        "    Returns both the local and global truncation error for each step size.\n",
        "\n",
        "    Parameters:\n",
        "            f: RHS of our ODE\n",
        "            base: The base of our logspace, our h_list is created by taking: base **(h_list_log)\n",
        "            h_min_log: Our smallest element in our h_list is defined by: base**(h_min_log)\n",
        "            h_max_log: Our largest element in our h_list is defined by: base**(h_max_log)\n",
        "            y_0 : Initial condition for y at t = start_t\n",
        "            start_t : The time at the initial condition, t_0\n",
        "            end_t : The end of the interval where the Euler method is performed, t_N\n",
        "        Returns:\n",
        "            t: Table containing the time step size, the global truncation error and the local truncation error\n",
        "    \"\"\"\n",
        "    K = h_max_log - h_min_log + 1\n",
        "    h_list = np.logspace(h_min_log, h_max_log, K, base=base)  # Crates an array that is evenly spaced on a logscale\n",
        "    t = PrettyTable(['h', 'Global truncation error', 'Local truncation error'])\n",
        "    for i in range(len(h_list)):\n",
        "        y_list, t_list = full_Euler(h_list[i], g, y_0, start_t, end_t)  # Runs Euler Algorithm with a given h\n",
        "        analytic_list = np.power(2, t_list)\n",
        "        # Want to format our output nicely, thus we need to add h, Global trunc error\n",
        "        # and Local trunc error (for the first time step) to our row\n",
        "        t.add_row([h_list[i], np.abs(y_list[-1] - analytic_list[-1]), np.abs(y_list[1] - analytic_list[1])])\n",
        "    t.sortby = \"h\"  # Formatting the table\n",
        "    t.reversesort = True\n",
        "    print(t)\n",
        "    return t\n",
        "\n",
        "\n",
        "t = trunc_errors(g, 2, h_min_log=-8)\n",
        "\n"
      ],
      "execution_count": null,
      "outputs": [
        {
          "output_type": "stream",
          "text": [
            "+------------+-------------------------+------------------------+\n",
            "|     h      | Global truncation error | Local truncation error |\n",
            "+------------+-------------------------+------------------------+\n",
            "|    0.5     |    0.7120865983468994   |  0.06763997209312245   |\n",
            "|    0.25    |   0.40885068263221713   |  0.015920319862734678  |\n",
            "|   0.125    |   0.22086218920020384   |  0.003864335095264515  |\n",
            "|   0.0625   |   0.11506573325497316   | 0.0009520836424172785  |\n",
            "|  0.03125   |   0.05876725013275852   | 0.00023629926161827797 |\n",
            "|  0.015625  |   0.029702418263456654  | 5.886135545130067e-05  |\n",
            "| 0.0078125  |   0.014932231644601224  | 1.4688764678139066e-05 |\n",
            "| 0.00390625 |   0.007486540203270664  |  3.66887614022815e-06  |\n",
            "+------------+-------------------------+------------------------+\n"
          ],
          "name": "stdout"
        }
      ]
    },
    {
      "cell_type": "markdown",
      "metadata": {
        "id": "kGNF7vDTXO0G"
      },
      "source": [
        "Claramente, el error de truncamiento global es de orden $ \\mathcal {O} (h) $ ya que cada vez que cortamos $ h $ a la mitad, el error de truncamiento correspondiente también se reduce a la mitad, mientras que el error de truncamiento local es una cuarta parte del anterior.\n",
        "\n",
        "El orden del error de truncamiento global es lo que define el __orden__ de un método numérico para resolver EDO. Decimos que el método de Euler es un método de primer orden. Existe una multitud de formas diferentes de resolver EDO, donde el método de Euler es el más simple.\n",
        "\n",
        "Para el trabajo numérico que es más sensible a errores (por ejemplo, simulaciones largas de movimientos planetarios), el trabajo adicional de implementar un método de orden superior bien vale la inversión, ya que la cantidad de pasos de tiempo requeridos es a menudo mucho menor."
      ]
    },
    {
      "cell_type": "markdown",
      "metadata": {
        "id": "h4cH8cdVXO0H"
      },
      "source": [
        "### Inestabilidad\n",
        "\n",
        "Ahora demostraremos un ejemplo teórico simple que ilustra cómo el método de Euler puede fallar, es decir, la solución numérica comienza a desviarse de la solución exacta de manera dramática. Por lo general, esto sucede cuando la solución numérica aumenta en magnitud mientras que la solución exacta permanece pequeña.\n",
        "\n",
        "Echemos un vistazo a la EDO\n",
        "\n",
        "$$\n",
        "\\frac{dy}{dt} = -y \\quad \\mathrm{with} \\quad y(0) = 1.\n",
        "$$\n",
        "\n",
        "Trivialmente, esto tiene la solución exacta $ y (t) = \\mathrm {e} ^ {- t} $. Sin embargo, si mira lo que sucede con un solo paso en el método de Euler usando la ecuación $ (8) $\n",
        "\n",
        "\\begin{equation}\n",
        "y_{n+1} = y_n + h g(y_n) = y_n - h y_n = (1-h) y_n.\n",
        "\\end{equation}\n",
        "\n",
        "Observe que para $ h = 1 $, nuestra solución simplemente se vuelve cero de inmediato, si $ h> 1 $, nuestra solución oscilará entre valores positivos y negativos. Si $ h> 2 $ nuestra solución crecerá sin límite (en valor absoluto), mientras oscila entre valores positivos y negativos. ¡Los tres casos son drásticamente diferentes de la solución exacta! En este cuaderno no entraremos en más detalles sobre la inestabilidad, pero elegimos incluir este ejemplo para demostrar cómo fallarán los métodos numéricos bajo ciertas condiciones.\n",
        "\n"
      ]
    },
    {
      "cell_type": "markdown",
      "metadata": {
        "id": "Y3vcGLQgXO0I"
      },
      "source": [
        "### Derivados de orden superior\n",
        "\n",
        "Por último, presentaremos cómo es posible utilizar el método de Euler para resolver ecuaciones diferenciales de orden superior. Desafortunadamente, hay un poco de ambigüedad con respecto a la nomenclatura aquí. Ya hemos hablado del __orden de nuestro solucionador de ODE__, pero ahora introducimos el __orden de la ecuación diferencial__ que queremos resolver. El orden de este último es simplemente la derivada de mayor orden que aparece en nuestra EDO. Por ejemplo, la EDO\n",
        "$$\n",
        "\\frac{d^3y}{dt^3} + \\frac{dy}{dt} = -y,\n",
        "$$\n",
        "es de tercer orden.\n",
        "\n",
        "#### Ejemplo: Esfera de metal caída de la Termosfera\n",
        "En este ejemplo (altamente construido), dejaremos caer una esfera de metal de la termosfera y estudiaremos su trayectoria hacia la superficie de la tierra. Las capas superiores de la termosfera se encuentran a 400 km de la superficie de la tierra. Usando la fórmula de Newton para la gravedad, podemos calcular que la constante gravitacional aquí arriba es 8.70 m / s ^ 2, mientras que en la superficie de la tierra es 9.82 m / s ^ 2. Por lo tanto, necesitamos actualizar nuestro valor de la fuerza gravitacional, denotado $ F_G $, mientras la esfera cae.\n",
        "\n",
        "También necesitamos tener en cuenta la fuerza de arrastre ejercida sobre la esfera, denotada como $ F_D $. Escribamos la segunda ecuación de Newton para encontrar las ecuaciones de movimiento.\n",
        "\\begin{equation}\n",
        "ma = m \\frac{d^2y}{dt^2} = F_D + F_G = Dv^2 - \\frac{GmM}{y^2}.\n",
        "\\tag{13}\n",
        "\\end{equation}\n",
        "\n",
        "Aquí denotamos $ D $ como el coeficiente de arrastre, $ v $ como la velocidad de la esfera, $ G $ como la constante gravitacional (adecuada) y $ m $ y $ M $ como la masa de la esfera y de la tierra. respectivamente. Tenga en cuenta que el eje y apunta lejos de la tierra. Al reorganizar la ecuación $ (13) $ ligeramente, encontramos\n",
        "\n",
        "\\begin{equation}\n",
        "\\frac{d^2y}{dt^2} = \\frac{D}{m} v^2 - \\frac{GM}{y^2}.\n",
        "\\tag{14}\n",
        "\\end{equation}\n",
        "\n",
        "\n",
        "Este formulario aún no está listo para usar nuestro algoritmo anterior, por lo que usaremos un truco final. Simplemente notamos $ \\ frac {dy} {dt} = v $ y reescribimos la ecuación $ (14) $ una última vez como __dos__ ecuaciones.\n",
        "\n",
        "\\begin{equation}\n",
        "\\frac{dy}{dt} = v\n",
        "\\\\\n",
        "\\frac{dv}{dt} = \\frac{D}{m} v^2 - \\frac{GM}{y^2}.\n",
        "\\tag{15}\n",
        "\\end{equation}\n",
        "\n",
        "¡Hemos reducido nuestras ecuaciones diferenciales de segundo orden a un conjunto de dos ecuaciones de primer orden! Tenga en cuenta que todavía necesitamos dos condiciones iniciales, $ y_0 $ y $ v_0 $. Aplicando el método de Euler en estas dos ecuaciones llegamos a\n",
        "\n",
        "\n",
        "\\begin{equation}\n",
        "y_{n+1} = y_n + h v_n\n",
        "\\\\\n",
        "v_{n+1} = v_n + h [ \\frac{D}{m} v_n^2 - \\frac{GM}{y_n^2}].\n",
        "\\tag{16}\n",
        "\\end{equation}\n",
        "\n",
        "Esto se puede generalizar aún más para resolver una ecuación diferencial de orden N en un sistema de ecuación diferencial de primer orden $ N $ y es una herramienta poderosa para resolver EDO de orden superior. Ahora introduciremos la notación convencional para resolver EDO de orden superior introduciendo el vector $ \\ vec {w_n} $ definido como\n",
        "\n",
        "$$\n",
        "\\vec{w_n} = \\begin{bmatrix}y_n \\\\ v_n\\end{bmatrix}.\n",
        "$$\n",
        "\n",
        "Sea $ f $ una función que transforme nuestro $ w_n $ como se describe en la ecuación $ (16) $,\n",
        "$$\n",
        "f(\\vec{w_n} ) = f \\begin{bmatrix}y_n \\\\ v_n\\end{bmatrix} = \\begin{bmatrix}v_n \\\\ \\frac{D}{m} v_n^2 - \\frac{GM}{y_n^2}\\end{bmatrix}.\n",
        "$$\n",
        "\n",
        "\n",
        "sin dependencia del tiempo, de modo que$$\n",
        "\\dot{\\vec{w_n}}=f(\\vec{w_n}). \n",
        "$$\n",
        "Para el lector interesado, ampliamos más sobre este tema en los cuadernos * Métodos de Runge-Kutta. Implementando la función $ f $ como nuestro lado derecho de nuestra EDO y ajustando ligeramente nuestras funciones anteriores, podemos estudiar la trayectoria de nuestra esfera."
      ]
    },
    {
      "cell_type": "code",
      "metadata": {
        "id": "f8xnd2nVXO0J"
      },
      "source": [
        "## Higher order differential equations\n",
        "\n",
        "def step_Euler_high(w, t, h, f, deg):\n",
        "    \"\"\"Performs a single step of Euler's method on vector form.\n",
        "\n",
        "    Parameters:\n",
        "            w: Numerical approximation of w at time t\n",
        "            t: The time the Euler step is preformed at\n",
        "            h: Step size\n",
        "            f: RHS of our ODE\n",
        "        Returns:\n",
        "            next_w: Numerical approximation of x at time t+h\n",
        "    \"\"\"\n",
        "    next_w = w + h * f(w, t, deg)\n",
        "    return next_w\n",
        "\n",
        "\n",
        "# We are going to store data in matrix form, so we illustrate the structure of the matrix here for clarity\n",
        "\n",
        "# The matrix M will have the following form when completly filled with data:\n",
        "# \n",
        "# M[ROW, COLUMN]\n",
        "# The number of rows is equal to the degree of the ODE, denoted k\n",
        "# Here we show how it will look for the problem discussed above\n",
        "#           N COLUMNS \n",
        "#    -----------------------------------\n",
        "#   | y0   y1   y2   ...  y_N-2   y_N-1\n",
        "#   | v0   v1   v2   ...  v_N-2   v_N-1\n",
        "# \n",
        "# Writing \":\" in M[ROWS, COLUMNS] such as M[:, 0] returns an array containing\n",
        "# the first column. M[0, :] returns the first row\n",
        "#\n",
        "\n",
        "def full_Euler_high(h, f, init_cond, start_t=0, end_t=1):\n",
        "    \"\"\" A full numerical approximation of an ODE in a set time interval.Performs consecutive Euler steps\n",
        "    with step size h from start time until the end time. Also takes into account the initial values of the ODE\n",
        "\n",
        "    Parameters:\n",
        "            h: Step size\n",
        "            f: RHS of our ODE (vector function)\n",
        "            init_cond: Array containing the necessary initial conditions\n",
        "            start_t : The time at the initial condition\n",
        "            end_t : The end of the interval where the Euler method is performed\n",
        "        Returns:\n",
        "            M: Matrix with number of rows equal to the order of the ODE, and N columns\n",
        "            Contains the numerical approximation of the variable we wish to solve at times t_list\n",
        "            t_list: Evenly spaced discrete time list with spacing h, starting time = start_t, and end time = end_t\n",
        "    \"\"\"\n",
        "    deg = len(init_cond) # The order of the ODE is equal to the number of initial conditions we need\n",
        "    N = int((end_t - start_t) / h)\n",
        "    t_list = np.linspace(start_t, end_t, N + 1)\n",
        "    M = np.zeros((deg, N + 1)) # Matrix storing the values of the variable we wish to solve for\n",
        "    # (the zeroth derivative), as well as the higher order derivatives\n",
        "    M[:, 0] = init_cond # Storing the initial conditions\n",
        "    for i in range(0, N):\n",
        "        M[:,i + 1] = step_Euler_high(M[:, i], t_list[i], h, f, deg) # Running N Euler steps\n",
        "    return M, t_list"
      ],
      "execution_count": null,
      "outputs": []
    },
    {
      "cell_type": "code",
      "metadata": {
        "id": "bupiuXdOXO0N"
      },
      "source": [
        "D = 0.0025 # Drag coefficient\n",
        "m = 1 # mass of the metal sphere\n",
        "M_earth = 5.97 * 10 ** 24 # Mass of the earth\n",
        "G = 6.67 * 10 ** (-11) # Gravitational constant\n",
        "\n",
        "\n",
        "def g(w, t, deg):\n",
        "    \"\"\"Defines the right hand side of our differential equation. In our case it is a vector function that\n",
        "    determines the equation of motion.\n",
        "\n",
        "        Parameters:\n",
        "                w: Numerical approximation of w at time t\n",
        "                t: Time, not relevant here as we have no explicit time dependence\n",
        "                deg: Degree of the ODE we wish to solve\n",
        "            Returns:\n",
        "                next_w: Numerical approximation of w at time t\n",
        "        \"\"\"\n",
        "    next_w = np.zeros(deg)\n",
        "    next_w[0] = w[1]\n",
        "    next_w[1] = D * w[1] ** 2 / m - G * M_earth / w[0] ** 2\n",
        "\n",
        "    return next_w\n"
      ],
      "execution_count": null,
      "outputs": []
    },
    {
      "cell_type": "code",
      "metadata": {
        "id": "m1OO7j1HXO0Q",
        "colab": {
          "base_uri": "https://localhost:8080/",
          "height": 441
        },
        "outputId": "1f069736-60bc-4e8c-c5c3-15c0c0af0839"
      },
      "source": [
        "M, t = full_Euler_high(0.01, g, np.array([6771*10**3,0]), 0, 200)\n",
        "\n",
        "fig = plt.figure(figsize=(18, 6))  # Create figure and determine size\n",
        "\n",
        "ax1 = plt.subplot(121)\n",
        "ax1.set_title(\"Trajectory of metal sphere dropped from the thermosphere\")\n",
        "ax1.set_xlabel(r\"$t$ [s]\")\n",
        "ax1.set_ylabel(r\"$y$ [km]\")\n",
        "# Only plotting the first twenty seconds of the trajectory, and rescaling y into kilometres\n",
        "plt.plot(t[:2000], M[0][:2000] / 10 ** 3)\n",
        "\n",
        "ax2 = plt.subplot(122)\n",
        "ax2.set_title(\"Speed of the metal sphere as a function of time traveled\")\n",
        "ax2.set_xlabel(r\"$t$ [s]\")\n",
        "ax2.set_ylabel(r\"$v_{term}$ [m/s]\")\n",
        "# Plotting the speed as a function of time in the interval [10 s, 20 s] to study how the speed changes\n",
        "# after the main acceleration at the start of the free fall\n",
        "ax2.plot(t[1000:4000], M[1][1000:4000])\n",
        "\n",
        "fig.tight_layout()\n",
        "plt.show()"
      ],
      "execution_count": null,
      "outputs": [
        {
          "output_type": "display_data",
          "data": {
            "image/png": "[encoded data removed]",
            "text/plain": [
              "<Figure size 1296x432 with 2 Axes>"
            ]
          },
          "metadata": {
            "tags": [],
            "needs_background": "light"
          }
        }
      ]
    },
    {
      "cell_type": "markdown",
      "metadata": {
        "id": "B5ZubBIwXO0T"
      },
      "source": [
        "Podemos considerar válidos los resultados producidos por el método de Euler debido a nuestra comprensión física del problema. En el gráfico de la derecha podemos estudiar la velocidad de la esfera de metal cuando cae hacia la tierra. El concepto de velocidad terminal. es decir, cuando la fuerza de arrastre es igual a la fuerza gravitacional, es útil aquí. Observamos que después de la aceleración inicial, la velocidad parece aplanarse en torno a los 60 m / s. Sin embargo, sabemos que la velocidad de la esfera debería aumentar aún más, ya que la atracción gravitacional de la tierra será más fuerte a medida que la esfera esté hacia el centro de la tierra (recuerde, la gravedad escala como $ \\frac {1} { r ^ 2} $). Veamos si podemos observar este efecto en nuestra solución numérica."
      ]
    },
    {
      "cell_type": "code",
      "metadata": {
        "id": "R1bl-PvpXO0T",
        "colab": {
          "base_uri": "https://localhost:8080/",
          "height": 297
        },
        "outputId": "9787bac6-b7f9-4edb-c50b-23ac3cdc013c"
      },
      "source": [
        "fig = plt.figure(figsize=(12, 4))  # Create figure and determine size\n",
        "plt.plot(t[10000:], M[1][10000:])\n",
        "plt.title(\"Speed of the metal sphere as a function of time traveled\")\n",
        "plt.xlabel(r\"$t$ [s]\")\n",
        "plt.ylabel(r\"$v_{term}$ [m/s]\")\n",
        "plt.show()"
      ],
      "execution_count": null,
      "outputs": [
        {
          "output_type": "display_data",
          "data": {
            "image/png": "[encoded data removed]",
            "text/plain": [
              "<Figure size 864x288 with 1 Axes>"
            ]
          },
          "metadata": {
            "tags": [],
            "needs_background": "light"
          }
        }
      ]
    },
    {
      "cell_type": "markdown",
      "metadata": {
        "id": "uxxSFUINXO0W"
      },
      "source": [
        "¡Observamos claramente el efecto de la fuerza gravitacional creciente! Para obtener más ejemplos sobre cómo utilizar los principios físicos para determinar la validez de los resultados numéricos (es decir, conservación de energía, etc.), consulte nuestro cuaderno sobre [Movimiento de proyectil] (https://nbviewer.jupyter.org/urls/www.numfys.net /media/notebooks/projectile_motion.ipynb).\n",
        "\n",
        "## Conclusión\n",
        "El método de Euler es un procedimiento numérico simple para resolver ecuaciones diferenciales ordinarias, y su simplicidad se manifiesta tanto en la implementación numérica directa como en el poder del método para resolver problemas más complejos. Para problemas más sofisticados que son más propensos a errores numéricos, se deben considerar en su lugar métodos más poderosos, como el método de Runge-Kutta de cuarto orden (esto se hace en el cuaderno mencionado anteriormente). Sin embargo, para los ejemplos simples que consideramos aquí, ¡fue suficiente!"
      ]
    }
  ]
}