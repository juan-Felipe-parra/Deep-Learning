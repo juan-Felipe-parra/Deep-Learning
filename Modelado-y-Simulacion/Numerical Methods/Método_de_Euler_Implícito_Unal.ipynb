{
  "nbformat": 4,
  "nbformat_minor": 0,
  "metadata": {
    "colab": {
      "name": "Método de Euler Implícito-Unal.ipynb",
      "provenance": [],
      "include_colab_link": true
    },
    "kernelspec": {
      "name": "python3",
      "display_name": "Python 3"
    }
  },
  "cells": [
    {
      "cell_type": "markdown",
      "metadata": {
        "id": "view-in-github",
        "colab_type": "text"
      },
      "source": [
        "<a href=\"https://colab.research.google.com/github/MarioBolanos/Modelado-y-Simulacion/blob/master/Numerical%20Methods/M%C3%A9todo_de_Euler_Impl%C3%ADcito_Unal.ipynb\" target=\"_parent\"><img src=\"https://colab.research.google.com/assets/colab-badge.svg\" alt=\"Open In Colab\"/></a>"
      ]
    },
    {
      "cell_type": "markdown",
      "metadata": {
        "id": "UwgrENCVru3t"
      },
      "source": [
        "#**Método de Euler explícito e implícito para la solución numérica de problemas de valor inicial con ecuaciones diferenciales ordinarias no lineales**\n",
        "\n",
        "El método de Euler implícito es usado para obtener la solución numérica (i.e. aproximación de la solución exacta) de un problema de valor inicial con ecuaciones diferenciales ordinarias (EDOs) del tipo:\n",
        "\n",
        "\\begin{equation}\n",
        "\\dot{x_t}=F(x),\\quad  x(t_0)=x_0  \n",
        "\\tag{1}  \n",
        "\\end{equation}\n",
        "\n",
        "en donde el subíndice en $\\dot{x_t} \\in R$ se usa para notar la derivada respecto al tiempo $t \\in R$ que se define como la variable independiente, $F : R \\rightarrow R$ es una función escalar, $x0 \\in R$ es un valor dado que permite escoger una solución particular de la familia de solución de la EDO, y $x \\in R$ es el estado del sistema y es la función desconocida que se desea aproximar $x(t) = g(t, x_0)$ en forma tal que:\n",
        "\n",
        "$$g_t(t, x_0) = F(g (t, x_0)), \\quad \\forall t \\in R  \\tag{2}$$\n",
        "\n",
        "## **Euler explícito**\n",
        "El método de Euler (explícito) ofrece una solución numérica del problema de valor inicial en (1) como la aproximación de primer orden de la forma:\n",
        "\n",
        "$$ x(t + \\Delta) \\approx x(t) + \\Delta F(x(t)), \\quad \\Delta \\approx 0 \\tag{3} $$\n",
        "\n",
        "\n",
        "A este punto se define el conjunto de instantes de tiempo $\\tau_i \\in R, i \\in N$ como una sucesión en el tiempo, y la solución aproximada del estado en el instante $\\tau_i$ como $y_i := y(\\tau_i) \\in R$ con una ecuación de diferencias en el estado aproximado así:\n",
        "\n",
        "$$ \\tau_i = \\tau_0 + hi;\\quad \\tau_0 = t_0  \\tag{4}$$\n",
        "$$ y_{i+1} = y_i + hF(y_i), \\quad y_0 = x_0  \\tag{5}$$\n",
        "\n",
        "\n",
        "en donde $h \\in R+$ es una constate positiva dada que determina la precisión de la aproximación en forma tal que $y \\rightarrow x$ cuando $h \\rightarrow 0$. Se podría definir la función de error inducido por el método como\n",
        "\n",
        "$$ e(t_i) = \\mid x(t_i) - y(t_i) \\mid \\tag{6}$$\n",
        "\n",
        "## **Euler implícito**\n",
        "\n",
        "Hay diferentes formas de interpretar geométricamente el método de Euler. Una de\n",
        "ellas es considerar que se emplea el estado y la derivada de la solución particular en el instante $i$ para calcular el estado en el instante $i + 1$, lo que conduce a las expresiones explícitas en (4) (5). Sin embargo se puede replantear el método empleando el estado en el instante $i$ y la derivada en el instante $i+1$ para obtener la aproximación del estado en el instante $i + 1$ así:\n",
        "\n",
        "$$ \\tau_i = \\tau_0 + hi;\\quad \\tau_0 = t_0 \\tag{7}$$\n",
        "$$ y_{i+1} = y_i + hF(y_{i+1}), \\quad y_0 = x_0 \\tag{8}$$\n",
        "\n",
        "Esta formulación introduce el problema adicional de resolver (8) para $yi+1$ que aparece en forma implícita, lo que en general implica el cómputo de más operaciones en comparación con la expresión en (5). En la práctica el método implícito en (7)(8) tiene mejores características de estabilidad lo que es crítico en ciertos problemas (e.g. problemas rígidos. Del inglés stiff problems).\n",
        "\n",
        "\n"
      ]
    },
    {
      "cell_type": "markdown",
      "metadata": {
        "id": "dRLxH81ACimE"
      },
      "source": [
        "##**Problemas Lineales**\n",
        "\n",
        "Dado el problema de valor inicial con EDOs:\n",
        "\n",
        "$$ \\dot{x_t}=ax,\\quad  x(t_0)=x_0 \\tag{9}$$\n",
        "\n",
        "en donde $x \\in R$ es desconocida, $F: R \\rightarrow R $ y $ a, t0, x_0 \\in R$ son conocidas. Se desea obtener una solución numéricas (approximación) $\\tau_i, y_i \\in R, i \\in N$ de la solución exacta $t; x(t) \\in R$, empleando el método de euler explícito presentado en la sección 1 y el método de euler implícito presentado en la sección 2.\n",
        "\n",
        "#### Euler explícito\n",
        "$$ \\tau_i = \\tau_0 + hi;\\quad \\tau_0 = t_0 \\tag{10}$$\n",
        "$$ y_{i+1} = (1+ha)y_{i}, \\quad y_0 = x_0 \\tag{11}$$\n",
        "#### Euler explícito\n",
        "$$ \\tau_i = \\tau_0 + hi;\\quad \\tau_0 = t_0 \\tag{12}$$\n",
        "$$ y_{i+1} = \\frac{1} {1 + ha} y_{i}, \\quad y_0 = x_0 \\tag{13}$$"
      ]
    },
    {
      "cell_type": "markdown",
      "metadata": {
        "id": "jAzfRdG10z9D"
      },
      "source": [
        "### **Análisis de estabilidad**\n",
        "Si se estudian las características de las ecuaciones en diferencias resultantes en (11) (13) se puede establecer la estabilidad asintótica de las soluciones aproximadas. Partamos del hecho que conocemos la solución analítica (exacta) de (17) y que está dada por:\n",
        "\n",
        "$$ x(t) = x_0e^{at} $$\n",
        "\n",
        "Si se asume que $a$ es una constante negativa, se tienen entonces que la solución límite es $0$:\n",
        "\n",
        "$$\\lim_ {t \\to \\infty}x(t) = 0; \\forall a \\in R^-; \\forall x_0 \\in R  \\tag{14}$$\n",
        "\n",
        "La estabilidad de los métodos se puede determinar analizando el límite de las soluciones aproximadas $y_i$ cuando $i$ tiende a infinito.\n",
        "\n",
        "#### Euler explícito\n",
        "$$\\lim_ {i \\to \\infty}y(t) = 0; \\forall a \\in R^-; \\forall h \\in (0,2)  \\tag{15}$$\n",
        "#### Euler explícito\n",
        "$$\\lim_ {i \\to \\infty}y(t) = 0; \\forall a \\in R^-; \\forall h \\in (0,\\infty)  \\tag{16}$$\n",
        "\n",
        "Nótese que la estabilidad del método explícito es igual a la de la solución exacto sí y solo sí se cumple que el parámetro $h \\in (0, 2)$, mientras que la estabilidad del método implícito no está sujeta a dicha restricción. La precisión de las soluciones aproximadas se obtienen evaluando la función de error en (6)."
      ]
    },
    {
      "cell_type": "markdown",
      "metadata": {
        "id": "1Z8MoFJq3wJD"
      },
      "source": [
        "## **Problemas no lineales**\n",
        "\n",
        "Dado el problema de valor inicial con EDOs:\n",
        "\n",
        "$$x_t=\\sin(x),\\quad  x(t_0)=x_0 \\tag{17}$$\n",
        "\n",
        "en donde $x \\in R$ es desconocida, $F: R \\rightarrow R $ y $ a, t0, x_0 \\in R$ son conocidas. Se desea obtener una solución numéricas (approximación) $\\tau_i, y_i \\in R, i \\in N$ de la solución exacta $t; x(t) \\in R$, empleando el método de euler explícito presentado en la sección 1 y el método de euler implícito presentado en la sección 2.\n",
        "\n",
        "\n",
        "#### **Euler explícito**\n",
        "$$ \\tau_i = \\tau_0 + hi;\\quad \\tau_0 = t_0 \\tag{18}$$\n",
        "$$ y_{i+1} = y_{i} +h\\sin(y_i), \\quad y_i = x_0 \\tag{19}$$\n",
        "#### **Euler explícito**\n",
        "$$ \\tau_i = \\tau_0 + hi;\\quad \\tau_0 = t_0 \\tag{20}$$\n",
        "$$ y_{i+1} = y_{i} + h \\sin(y_{i+1}), \\quad y_i = x_0 \\tag{21}$$\n",
        "\n",
        "Nótese que ha diferencia del caso lineal en (13), no es posible obtener una solución analítica de la ecuación trascendente en (21) para $yi+1$\n",
        "\n",
        "\n",
        "### **Solución aproximada de ecuaciones en diferencias implícitas**\n",
        "\n",
        "En aras de la claridad se define $z := yi+1$ como la solución de (21), por lo que se puede escribir\n",
        "\n",
        "$$ z = y_i + h \\sin(z) \\tag{22}$$\n",
        "\n",
        "donde $y_i, h \\in R$ son constantes conocidas para el presente problema. Se usa entonces un método iterativo como Newton-Raphson explicado en la seccion anterior para buscar ceros de funciones.\n",
        "\n",
        "**Método iterativo Newton-Raphson** Dado un valor inicial conocido $z_0 := z(0)$\n",
        "cerca de un cero de la función (i.e. $g(z0) \\approx 0$), es posible formular una ecuación en diferencias en $j \\in N$, como función de $g(z_j)$ y de su derivada $g_z(z_j)$ cuyo elemento límite es un cero de $g(z)$. Lo ecuación en diferencias para el método Newton-Raphson es :\n",
        "\n",
        "$$ z_{j+1} = z_j - gz^{-1} (z_j)g(z_j), \\quad z_0 \\in R \\tag{23}$$\n",
        "\n",
        "Ahora se propone resolver (22) empleando (23). Para esto se definen $g(z)$ y $g_z(z)$ a partir de (22) así:\n",
        "\n",
        "$$g(z) = z - y_i - h \\sin(z), \\quad \\quad g_z(z) = 1 - h cos(z) \\tag{24}$$\n",
        "\n",
        "Entonces se define la ecuación en diferencias definida en (23) así:\n",
        "\n",
        "$$z_{j+1} =z_j-\\frac{g(z)} {g'(z)} = z_j - \\frac {z -y_i - h \\sin(z)}{1 - h \\cos(z)}  \\tag{25}\n",
        "$$\n",
        "\n",
        "donde z_0 es conocido y se puede obtener por ejemplo a partir de un método explícito\n"
      ]
    },
    {
      "cell_type": "markdown",
      "metadata": {
        "id": "jKwOmUul6mhU"
      },
      "source": [
        "## **Pseudocódigo**\n",
        "Dados $x_0; t_0; t_f , h \\in R$ como parámetros para obtener la solución aproximada $\\tau_i; yi \\in R$ del problema de valor inicial:\n",
        "$$x_t = F(x),\\quad  x(t_0) = x_0  \\tag{26}$$\n",
        "\n",
        "**Require** :$ t_0; x_0; F; n; h; Tol$ \\\\\n",
        "$\\tau_0 \\leftarrow  t0$ \\\\\n",
        "$y_0  \\leftarrow x_0 $ \\\\\n",
        "> **for** $i = 1 \\rightarrow n$ **do** \\\\\n",
        "$yi \\leftarrow y_{i-1} + hF(y_{i-1}) \\quad ▷$ *Euler explícito para obtener una condición inicial*. \\\\\n",
        "$\\tau_i \\leftarrow  \\tau_{i-1} + h$ \\\\\n",
        "$z_0 \\leftarrow  y_i$ \\\\\n",
        "$g_0 \\leftarrow  g(z_0, y_{i-1}, h)$ \\\\\n",
        "$j \\leftarrow  0$ \\\\\n",
        "\n",
        ">>**while** $ g_j > Tol$ **do** \\\\\n",
        "$j \\leftarrow  j + 1$ \\\\\n",
        "$z_j \\leftarrow  z_{j-1} - g_z^{-1} (z_{j-1}, y_{i-1}, h)g(z_{j-1}, y_{i-1}, h) \\quad ▷$ *Euler implícito*. \\\\\n",
        "$g_j \\leftarrow  g(z_{j-1}, y{i-1}, h)$ \\\\\n",
        "**end while** \\\\\n",
        "\n",
        ">$y_i = z_j$ \\\\\n",
        "$i  \\leftarrow  i + 1$ \\\\\n",
        "**end for**\n"
      ]
    },
    {
      "cell_type": "markdown",
      "metadata": {
        "id": "JNrQkPZ4IkT8"
      },
      "source": [
        "__Example:__\n",
        "\n",
        "Queremos resolver\n",
        "$$\\frac{d}{dt}x(t)=\\cos(x(t))+\\sin(t), \\,x(t_0=0)=0,$$\n",
        "Usando el metodo implícito de Euler tenemos.\n",
        "$$x_{n+1} = x_n + \\Delta t\\left(\\cos(x_{n+1})+\\sin(t_{n+1})\\right),$$\n",
        "y nosotros queremos encontrar el valor de  $x_{n+1}$ de tal forma que\n",
        "$$f(x_{n+1}) = x_{n+1} - x_n - \\Delta t\\left(\\cos(x_{n+1})+\\sin(t_{n+1})\\right) = 0.$$\n",
        "El código necesario para resolver este problema se implementa a continuación y se grafica el resultado. Para comparar con el método explícito de Euler, utilizaremos el mismo tamaño de paso. Como necesitamos encontrar la raíz de una función, primero implementamos el método de Newton."
      ]
    },
    {
      "cell_type": "code",
      "metadata": {
        "id": "N3L-e-xR6SL4"
      },
      "source": [
        "%matplotlib inline\n",
        "import numpy as np\n",
        "import matplotlib.pyplot as plt\n",
        "\n",
        "# Set common figure parameters\n",
        "newparams = {'figure.figsize': (16, 6), 'axes.grid': True,\n",
        "             'lines.linewidth': 1.5, 'lines.linewidth': 2,\n",
        "             'font.size': 14}\n",
        "plt.rcParams.update(newparams)"
      ],
      "execution_count": null,
      "outputs": []
    },
    {
      "cell_type": "code",
      "metadata": {
        "id": "LyGOLh-8JvnI"
      },
      "source": [
        "def newton(x_old, t_new, dt, precision=1e-12):\n",
        "    \"\"\" Toma los valores de  x_old y t_new, y encuentra la raiz de\n",
        "    la funcion f(x_new), retorna x_new. \"\"\"\n",
        "    \n",
        "    # Primera estimación:\n",
        "    x_new = x_old\n",
        "    f = func(x_new, x_old, t_new, dt)\n",
        "    dfdx = dfuncdx(x_new, dt)\n",
        "    \n",
        "    while abs(f/dfdx) > precision:\n",
        "        x_new = x_new - f/dfdx\n",
        "        f = func(x_new, x_old, t_new, dt)\n",
        "        dfdx = dfuncdx(x_new, dt)\n",
        "        \n",
        "    return x_new\n",
        "    \n",
        "def func(x_new, x_old, t_new, dt):\n",
        "    \"\"\" Definimos la función f(x) .\"\"\"\n",
        "    return x_new - x_old - dt*(np.cos(x_new) + np.sin(t_new))\n",
        "\n",
        "def dfuncdx(x_new, dt):\n",
        "    \"\"\" Derivada de f(x) con respecto a x_new.\"\"\"\n",
        "    return 1+dt*np.sin(x_new)"
      ],
      "execution_count": null,
      "outputs": []
    },
    {
      "cell_type": "code",
      "metadata": {
        "id": "0sT5ZL1gJ05Y",
        "colab": {
          "base_uri": "https://localhost:8080/",
          "height": 298
        },
        "outputId": "e7331f62-6b1f-4cd0-838b-6fd7f46a75f2"
      },
      "source": [
        "dt = 0.001  # Tamaño de paso\n",
        "t_max = 10  # Tiempo Máximo\n",
        "N = int(t_max/dt)\n",
        "\n",
        "t = np.linspace(0, t_max, N+1)\n",
        "x = np.zeros(N+1)\n",
        "\n",
        "# Valor inicial\n",
        "x[0] = 0\n",
        "\n",
        "for n in range(N):\n",
        "    x[n+1] = newton(x[n], t[n+1], dt)\n",
        "\n",
        "print(r'x_N = %f' % x[-1])\n",
        "    \n",
        "plt.plot(t,x)\n",
        "plt.xlabel(r'$t$')\n",
        "plt.ylabel(r'$x(t)$')\n",
        "plt.grid();"
      ],
      "execution_count": null,
      "outputs": [
        {
          "output_type": "stream",
          "text": [
            "x_N = 1.742352\n"
          ],
          "name": "stdout"
        },
        {
          "output_type": "display_data",
          "data": {
            "image/png": "[encoded data removed]",
            "text/plain": [
              "<Figure size 432x288 with 1 Axes>"
            ]
          },
          "metadata": {
            "tags": [],
            "needs_background": "light"
          }
        }
      ]
    },
    {
      "cell_type": "code",
      "metadata": {
        "id": "6EP1o0UHrgeF"
      },
      "source": [
        ""
      ],
      "execution_count": null,
      "outputs": []
    }
  ]
}